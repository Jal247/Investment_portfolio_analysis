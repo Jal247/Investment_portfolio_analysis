{
 "cells": [
  {
   "cell_type": "code",
   "execution_count": null,
   "metadata": {},
   "outputs": [],
   "source": []
  },
  {
   "cell_type": "markdown",
   "metadata": {},
   "source": [
    "Created a data with python code to keep project simple and easy to explore"
   ]
  },
  {
   "cell_type": "code",
   "execution_count": 2,
   "metadata": {},
   "outputs": [],
   "source": [
    "import pandas as pd\n",
    "import random\n",
    "import numpy as np\n",
    "from datetime import datetime, timedelta\n"
   ]
  },
  {
   "cell_type": "code",
   "execution_count": 3,
   "metadata": {},
   "outputs": [
    {
     "ename": "NameError",
     "evalue": "name 'curr_values' is not defined",
     "output_type": "error",
     "traceback": [
      "\u001b[1;31m---------------------------------------------------------------------------\u001b[0m",
      "\u001b[1;31mNameError\u001b[0m                                 Traceback (most recent call last)",
      "Cell \u001b[1;32mIn[3], line 60\u001b[0m\n\u001b[0;32m     49\u001b[0m     inv_dates \u001b[38;5;241m=\u001b[39m [random_date() \u001b[38;5;28;01mfor\u001b[39;00m _ \u001b[38;5;129;01min\u001b[39;00m assets]\n\u001b[0;32m     51\u001b[0m     \u001b[38;5;66;03m# For simplicity, choose a single overall risk level and status per customer\u001b[39;00m\n\u001b[0;32m     52\u001b[0m     \u001b[38;5;66;03m# risk_level = random.choice(risk_levels)\u001b[39;00m\n\u001b[0;32m     53\u001b[0m     \u001b[38;5;66;03m# status = random.choice(investment_statuses)\u001b[39;00m\n\u001b[0;32m     54\u001b[0m     \n\u001b[0;32m     55\u001b[0m     \u001b[38;5;66;03m# Append data: Join multi-asset details as comma separated strings\u001b[39;00m\n\u001b[0;32m     56\u001b[0m     data\u001b[38;5;241m.\u001b[39mappend({\n\u001b[0;32m     57\u001b[0m         \u001b[38;5;124m\"\u001b[39m\u001b[38;5;124mCustomer_ID\u001b[39m\u001b[38;5;124m\"\u001b[39m: cust,\n\u001b[0;32m     58\u001b[0m         \u001b[38;5;124m\"\u001b[39m\u001b[38;5;124mAsset_Types\u001b[39m\u001b[38;5;124m\"\u001b[39m: \u001b[38;5;124m\"\u001b[39m\u001b[38;5;124m, \u001b[39m\u001b[38;5;124m\"\u001b[39m\u001b[38;5;241m.\u001b[39mjoin(assets),\n\u001b[0;32m     59\u001b[0m         \u001b[38;5;124m\"\u001b[39m\u001b[38;5;124mInvestment_Amounts\u001b[39m\u001b[38;5;124m\"\u001b[39m: \u001b[38;5;124m\"\u001b[39m\u001b[38;5;124m, \u001b[39m\u001b[38;5;124m\"\u001b[39m\u001b[38;5;241m.\u001b[39mjoin(\u001b[38;5;28mmap\u001b[39m(\u001b[38;5;28mstr\u001b[39m, inv_amounts)),\n\u001b[1;32m---> 60\u001b[0m         \u001b[38;5;124m\"\u001b[39m\u001b[38;5;124mCurrent_Values\u001b[39m\u001b[38;5;124m\"\u001b[39m: \u001b[38;5;124m\"\u001b[39m\u001b[38;5;124m, \u001b[39m\u001b[38;5;124m\"\u001b[39m\u001b[38;5;241m.\u001b[39mjoin(\u001b[38;5;28mmap\u001b[39m(\u001b[38;5;28mstr\u001b[39m, \u001b[43mcurr_values\u001b[49m)),\n\u001b[0;32m     61\u001b[0m         \u001b[38;5;66;03m#\"ROI (%)\": \", \".join(map(str, rois)),\u001b[39;00m\n\u001b[0;32m     62\u001b[0m         \u001b[38;5;66;03m# \"Risk_Level\": risk_level,\u001b[39;00m\n\u001b[0;32m     63\u001b[0m         \u001b[38;5;66;03m# \"Investment_Status\": status,\u001b[39;00m\n\u001b[0;32m     64\u001b[0m         \u001b[38;5;124m\"\u001b[39m\u001b[38;5;124mInvestment_Date\u001b[39m\u001b[38;5;124m\"\u001b[39m: \u001b[38;5;124m\"\u001b[39m\u001b[38;5;124m, \u001b[39m\u001b[38;5;124m\"\u001b[39m\u001b[38;5;241m.\u001b[39mjoin(inv_dates)\n\u001b[0;32m     65\u001b[0m     })\n\u001b[0;32m     67\u001b[0m \u001b[38;5;66;03m# Create DataFrame\u001b[39;00m\n\u001b[0;32m     68\u001b[0m df \u001b[38;5;241m=\u001b[39m pd\u001b[38;5;241m.\u001b[39mDataFrame(data)\n",
      "\u001b[1;31mNameError\u001b[0m: name 'curr_values' is not defined"
     ]
    }
   ],
   "source": [
    "# import pandas as pd\n",
    "# import random\n",
    "# import numpy as np\n",
    "# from datetime import datetime, timedelta\n",
    "\n",
    "# Set random seed for reproducibility\n",
    "np.random.seed(42)\n",
    "random.seed(42)\n",
    "\n",
    "# Sample customers\n",
    "customers = [f\"Customer_{i}\" for i in range(1, 101)]\n",
    "\n",
    "# Define asset types and other variables\n",
    "single_asset_types = [\"Stocks\", \"Gold\", \"Real Estate\", \"Bonds\"]\n",
    "multi_asset_types = [\n",
    "    [\"Gold\", \"Stocks\", \"Bonds\"],\n",
    "    [\"Stocks\", \"Real Estate\", \"Bonds\"],\n",
    "    [\"Bonds\", \"Gold\", \"Stocks\"],\n",
    "    [\"Bonds\", \"Stocks\", \"Crypto\"],\n",
    "    [\"Gold\", \"Crypto\"],\n",
    "    [\"Stocks\", \"Real Estate\"]\n",
    "]\n",
    "# investment_statuses = [\"Profitable\", \"At Risk\", \"Stable\", \"Loss\"]\n",
    "# risk_levels = [\"Low\", \"Medium\", \"High\"]\n",
    "\n",
    "# Helper function to generate a random date in 2022\n",
    "def random_date():\n",
    "    start_date = datetime(2022, 1, 1)\n",
    "    end_date = datetime(2022, 12, 31)\n",
    "    delta = end_date - start_date\n",
    "    random_days = random.randint(0, delta.days)\n",
    "    return (start_date + timedelta(days=random_days)).strftime(\"%Y-%m-%d\")\n",
    "\n",
    "# Build dataset\n",
    "data = []\n",
    "for i, cust in enumerate(customers):\n",
    "    # Ensure 6 of 10 customers have multi-asset investments\n",
    "    if i < 6:\n",
    "        assets = random.choice(multi_asset_types)\n",
    "    else:\n",
    "        assets = [random.choice(single_asset_types)]\n",
    "    \n",
    "    # Generate values for each asset\n",
    "    inv_amounts = [round(random.uniform(5000, 50000), 2) for _ in assets]\n",
    "    # curr_values = [round(random.uniform(5000, 60000), 2) for _ in assets]\n",
    "    # rois = [round(random.uniform(-10, 20), 2) for _ in assets]\n",
    "    \n",
    "    # Generate random dates for each asset investment\n",
    "    inv_dates = [random_date() for _ in assets]\n",
    "    \n",
    "    # For simplicity, choose a single overall risk level and status per customer\n",
    "    # risk_level = random.choice(risk_levels)\n",
    "    # status = random.choice(investment_statuses)\n",
    "    \n",
    "    # Append data: Join multi-asset details as comma separated strings\n",
    "    data.append({\n",
    "        \"Customer_ID\": cust,\n",
    "        \"Asset_Types\": \", \".join(assets),\n",
    "        \"Investment_Amounts\": \", \".join(map(str, inv_amounts)),\n",
    "        \"Current_Values\": \", \".join(map(str, curr_values)),\n",
    "        #\"ROI (%)\": \", \".join(map(str, rois)),\n",
    "        # \"Risk_Level\": risk_level,\n",
    "        # \"Investment_Status\": status,\n",
    "        \"Investment_Date\": \", \".join(inv_dates)\n",
    "    })\n",
    "\n",
    "# Create DataFrame\n",
    "df = pd.DataFrame(data)\n",
    "print(df)\n"
   ]
  },
  {
   "cell_type": "markdown",
   "metadata": {},
   "source": [
    "Explanation:\n",
    "Customer_ID: Unique identifier for each customer.\n",
    "Asset_Types: A comma-separated list of assets the customer has invested in.\n",
    "Investment_Amounts: Corresponding investment amounts.\n",
    "Current_Values: Current value of each asset.\n",
    "ROI (%): Return on investment for each asset.\n",
    "Risk_Level & Investment_Status: Assigned overall per customer.\n",
    "Investment_Date: Comma-separated list of dates when the investments were made.\n",
    "This dataset meets the requirement that 6 of the 10 customers have invested in more than 2 different types of assets, with each asset including an investment date. Let me know if you need further adjustments!"
   ]
  },
  {
   "cell_type": "markdown",
   "metadata": {},
   "source": [
    "2. Dynamic Data (Fetched via API)\n",
    "To update the current asset value, we integrate APIs such as:\n",
    "\n",
    "Stock Market API (Yahoo Finance, Alpha Vantage, IEX Cloud) → for real-time stock prices\n",
    "Cryptocurrency API (CoinGecko, Binance API) → for live crypto prices\n",
    "Gold API (Metals-API) → for live gold rates\n",
    "Real Estate API (Zillow, Realtor API) → for property valuations\n",
    "3. API Integration\n"
   ]
  },
  {
   "cell_type": "code",
   "execution_count": 6,
   "metadata": {},
   "outputs": [
    {
     "name": "stdout",
     "output_type": "stream",
     "text": [
      "      Customer_ID                 Asset_Types            Investment_Amounts  \\\n",
      "0      Customer_1         Bonds, Gold, Stocks  15775.35, 15839.22, 30531.06   \n",
      "1      Customer_2  Stocks, Real Estate, Bonds  10777.62, 26387.71, 29741.16   \n",
      "2      Customer_3         Stocks, Real Estate             36044.04, 37082.7   \n",
      "3      Customer_4                Gold, Crypto            25316.88, 16155.75   \n",
      "4      Customer_5                Gold, Crypto            15355.16, 14909.78   \n",
      "..            ...                         ...                           ...   \n",
      "96    Customer_97                      Stocks                      19153.27   \n",
      "97    Customer_98                       Bonds                      43920.98   \n",
      "98    Customer_99                      Crypto                      25788.94   \n",
      "99   Customer_100                 Real Estate                      33018.52   \n",
      "100  Customer_101                      Stocks                      14160.12   \n",
      "\n",
      "                Current_Values                     Investment_Date  \n",
      "0    31729.48, 8806.69, 348.53  2020-06-10, 2020-06-24, 2024-02-07  \n",
      "1    240.41, 16648.9, 34661.28  2021-06-26, 2022-12-16, 2024-11-21  \n",
      "2              683.03, 29095.5              2022-03-28, 2023-10-07  \n",
      "3            6156.88, 96404.28              2020-05-11, 2021-11-23  \n",
      "4           39710.66, 96404.28              2020-05-25, 2023-12-20  \n",
      "..                         ...                                 ...  \n",
      "96                      486.58                          2021-10-24  \n",
      "97                    59346.56                          2024-08-16  \n",
      "98                    19379.13                          2020-04-21  \n",
      "99                    39397.48                          2022-10-17  \n",
      "100                     467.45                          2023-01-29  \n",
      "\n",
      "[101 rows x 5 columns]\n"
     ]
    }
   ],
   "source": [
    "import requests\n",
    "import pandas as pd\n",
    "import random\n",
    "import numpy as np\n",
    "from datetime import datetime, timedelta\n",
    "\n",
    "# Alpha Vantage API Key (Get it from https://www.alphavantage.co/)\n",
    "API_KEY = \"your_alpha_vantage_api_key\"\n",
    "\n",
    "# API Base URL\n",
    "BASE_URL = \"https://www.alphavantage.co/query\"\n",
    "\n",
    "# List of sample stock symbols (for real API fetching)\n",
    "stock_symbols = [\"AAPL\", \"GOOGL\", \"AMZN\", \"MSFT\", \"TSLA\", \"META\", \"NVDA\", \"JPM\", \"V\", \"BRK.B\"]\n",
    "\n",
    "# Define asset types (can be expanded)\n",
    "asset_types = [\"Stocks\", \"Gold\", \"Real Estate\", \"Bonds\", \"Crypto\"]\n",
    "multi_asset_types = [\n",
    "    [\"Gold\", \"Stocks\", \"Bonds\"],\n",
    "    [\"Stocks\", \"Real Estate\", \"Bonds\"],\n",
    "    [\"Bonds\", \"Gold\", \"Stocks\"],\n",
    "    [\"Bonds\", \"Stocks\", \"Crypto\"],\n",
    "    [\"Gold\", \"Crypto\"],\n",
    "    [\"Stocks\", \"Real Estate\"]\n",
    "]\n",
    "\n",
    "# investment_statuses = [\"Profitable\", \"At Risk\", \"Stable\", \"Loss\"]\n",
    "# risk_levels = [\"Low\", \"Medium\", \"High\"]\n",
    "\n",
    "# Helper function to generate a random date in 2022\n",
    "def random_date():\n",
    "    start_date = datetime(2020, 1, 1)\n",
    "    end_date = datetime(2024, 12, 31)\n",
    "    delta = end_date - start_date\n",
    "    random_days = random.randint(0, delta.days)\n",
    "    return (start_date + timedelta(days=random_days)).strftime(\"%Y-%m-%d\")\n",
    "\n",
    "# Function to fetch real-time stock prices from Alpha Vantage\n",
    "def fetch_stock_price(symbol):\n",
    "    params = {\n",
    "        \"function\": \"TIME_SERIES_INTRADAY\",\n",
    "        \"symbol\": symbol,\n",
    "        \"interval\": \"5min\",\n",
    "        \"apikey\": API_KEY\n",
    "    }\n",
    "    response = requests.get(BASE_URL, params=params)\n",
    "    data = response.json()\n",
    "    \n",
    "    try:\n",
    "        latest_time = list(data[\"Time Series (5min)\"].keys())[0]\n",
    "        price = float(data[\"Time Series (5min)\"][latest_time][\"1. open\"])\n",
    "        return price\n",
    "    except KeyError:\n",
    "        return round(random.uniform(50, 500), 2)  # Fallback to random value\n",
    "\n",
    "# Function to fetch cryptocurrency price (e.g., Bitcoin)\n",
    "def fetch_crypto_price(symbol=\"BTC\"):\n",
    "    params = {\n",
    "        \"function\": \"CURRENCY_EXCHANGE_RATE\",\n",
    "        \"from_currency\": symbol,\n",
    "        \"to_currency\": \"USD\",\n",
    "        \"apikey\": API_KEY\n",
    "    }\n",
    "    response = requests.get(BASE_URL, params=params)\n",
    "    data = response.json()\n",
    "    \n",
    "    try:\n",
    "        price = float(data[\"Realtime Currency Exchange Rate\"][\"5. Exchange Rate\"])\n",
    "        return price\n",
    "    except KeyError:\n",
    "        return round(random.uniform(10000, 60000), 2)  # Fallback to random value\n",
    "\n",
    "# Function to generate investment data\n",
    "def generate_investment_data():\n",
    "    data = []\n",
    "    \n",
    "    for i in range(101):  # 10 Customers\n",
    "        cust_id = f\"Customer_{i+1}\"\n",
    "        \n",
    "        # Ensure 6 of 10 customers have multi-asset investments\n",
    "        if i < 65:\n",
    "            assets = random.choice(multi_asset_types)\n",
    "        else:\n",
    "            assets = [random.choice(asset_types)]\n",
    "        \n",
    "        # Generate values for each asset\n",
    "        inv_amounts = [round(random.uniform(5000, 50000), 2) for _ in assets]\n",
    "        inv_dates = [random_date() for _ in assets]\n",
    "\n",
    "        current_values = []\n",
    "        for asset in assets:\n",
    "            if asset == \"Stocks\":\n",
    "                stock_symbol = random.choice(stock_symbols)\n",
    "                current_values.append(fetch_stock_price(stock_symbol))\n",
    "            elif asset == \"Crypto\":\n",
    "                current_values.append(fetch_crypto_price())\n",
    "            else:\n",
    "                # Gold, Real Estate, Bonds - Simulating values (real API can be integrated here)\n",
    "                current_values.append(round(random.uniform(5000, 60000), 2))\n",
    "        \n",
    "        # rois = [round((cv - ia) / ia * 100, 2) for cv, ia in zip(current_values, inv_amounts)]\n",
    "        # risk_level = random.choice(risk_levels)\n",
    "        # status = random.choice(investment_statuses)\n",
    "        \n",
    "        # Append data: Join multi-asset details as comma-separated strings\n",
    "        data.append({\n",
    "            \"Customer_ID\": cust_id,\n",
    "            \"Asset_Types\": \", \".join(assets),\n",
    "            \"Investment_Amounts\": \", \".join(map(str, inv_amounts)),\n",
    "            \"Current_Values\": \", \".join(map(str, current_values)),\n",
    "            # \"ROI (%)\": \", \".join(map(str, rois)),\n",
    "            # \"Risk_Level\": risk_level,\n",
    "            # \"Investment_Status\": status,\n",
    "            \"Investment_Date\": \", \".join(inv_dates)\n",
    "        })\n",
    "\n",
    "    return pd.DataFrame(data)\n",
    "\n",
    "# Generate DataFrame\n",
    "df = generate_investment_data()\n",
    "print(df)\n"
   ]
  },
  {
   "cell_type": "markdown",
   "metadata": {},
   "source": [
    "1. Gold Prices API\n",
    "Gold prices can be retrieved using financial market APIs that track commodities.\n",
    "\n",
    "✅ Recommended APIs:\n",
    "API\tFeatures\t        Pricing\n",
    "Metals-API\tReal-time & historical gold, silver, and other metals prices\tFree (limited requests), Paid\n",
    "\n",
    "Alpha Vantage\tGold price in USD (XAU/USD) via CURRENCY_EXCHANGE_RATE\tFree (rate-limited)\n",
    "\n",
    "GoldAPI\tLive and historical gold & silver prices\tFree & Paid\n"
   ]
  },
  {
   "cell_type": "code",
   "execution_count": 7,
   "metadata": {},
   "outputs": [
    {
     "name": "stdout",
     "output_type": "stream",
     "text": [
      "Collecting yahooqueryNote: you may need to restart the kernel to use updated packages.\n",
      "\n",
      "  Downloading yahooquery-2.3.7-py3-none-any.whl.metadata (5.0 kB)\n",
      "Requirement already satisfied: beautifulsoup4<5.0.0,>=4.12.2 in c:\\users\\jalpazenisha\\miniconda3\\envs\\dsi_participant\\lib\\site-packages (from yahooquery) (4.12.3)\n",
      "Collecting lxml<5.0.0,>=4.9.3 (from yahooquery)\n",
      "  Downloading lxml-4.9.4-cp39-cp39-win_amd64.whl.metadata (3.8 kB)\n",
      "Requirement already satisfied: pandas<3.0.0,>=2.0.3 in c:\\users\\jalpazenisha\\miniconda3\\envs\\dsi_participant\\lib\\site-packages (from yahooquery) (2.2.2)\n",
      "Requirement already satisfied: requests<3.0.0,>=2.31.0 in c:\\users\\jalpazenisha\\miniconda3\\envs\\dsi_participant\\lib\\site-packages (from yahooquery) (2.32.3)\n",
      "Collecting requests-futures<2.0.0,>=1.0.1 (from yahooquery)\n",
      "  Downloading requests_futures-1.0.2-py2.py3-none-any.whl.metadata (12 kB)\n",
      "Requirement already satisfied: tqdm<5.0.0,>=4.65.0 in c:\\users\\jalpazenisha\\miniconda3\\envs\\dsi_participant\\lib\\site-packages (from yahooquery) (4.66.5)\n",
      "Requirement already satisfied: soupsieve>1.2 in c:\\users\\jalpazenisha\\miniconda3\\envs\\dsi_participant\\lib\\site-packages (from beautifulsoup4<5.0.0,>=4.12.2->yahooquery) (2.5)\n",
      "Requirement already satisfied: numpy>=1.22.4 in c:\\users\\jalpazenisha\\miniconda3\\envs\\dsi_participant\\lib\\site-packages (from pandas<3.0.0,>=2.0.3->yahooquery) (1.26.4)\n",
      "Requirement already satisfied: python-dateutil>=2.8.2 in c:\\users\\jalpazenisha\\miniconda3\\envs\\dsi_participant\\lib\\site-packages (from pandas<3.0.0,>=2.0.3->yahooquery) (2.9.0)\n",
      "Requirement already satisfied: pytz>=2020.1 in c:\\users\\jalpazenisha\\miniconda3\\envs\\dsi_participant\\lib\\site-packages (from pandas<3.0.0,>=2.0.3->yahooquery) (2024.1)\n",
      "Requirement already satisfied: tzdata>=2022.7 in c:\\users\\jalpazenisha\\miniconda3\\envs\\dsi_participant\\lib\\site-packages (from pandas<3.0.0,>=2.0.3->yahooquery) (2024.1)\n",
      "Requirement already satisfied: charset-normalizer<4,>=2 in c:\\users\\jalpazenisha\\miniconda3\\envs\\dsi_participant\\lib\\site-packages (from requests<3.0.0,>=2.31.0->yahooquery) (3.3.2)\n",
      "Requirement already satisfied: idna<4,>=2.5 in c:\\users\\jalpazenisha\\miniconda3\\envs\\dsi_participant\\lib\\site-packages (from requests<3.0.0,>=2.31.0->yahooquery) (3.7)\n",
      "Requirement already satisfied: urllib3<3,>=1.21.1 in c:\\users\\jalpazenisha\\miniconda3\\envs\\dsi_participant\\lib\\site-packages (from requests<3.0.0,>=2.31.0->yahooquery) (2.2.2)\n",
      "Requirement already satisfied: certifi>=2017.4.17 in c:\\users\\jalpazenisha\\miniconda3\\envs\\dsi_participant\\lib\\site-packages (from requests<3.0.0,>=2.31.0->yahooquery) (2024.8.30)\n",
      "Requirement already satisfied: colorama in c:\\users\\jalpazenisha\\miniconda3\\envs\\dsi_participant\\lib\\site-packages (from tqdm<5.0.0,>=4.65.0->yahooquery) (0.4.6)\n",
      "Requirement already satisfied: six>=1.5 in c:\\users\\jalpazenisha\\miniconda3\\envs\\dsi_participant\\lib\\site-packages (from python-dateutil>=2.8.2->pandas<3.0.0,>=2.0.3->yahooquery) (1.16.0)\n",
      "Downloading yahooquery-2.3.7-py3-none-any.whl (52 kB)\n",
      "Downloading lxml-4.9.4-cp39-cp39-win_amd64.whl (3.9 MB)\n",
      "   ---------------------------------------- 0.0/3.9 MB ? eta -:--:--\n",
      "   ---------- ----------------------------- 1.0/3.9 MB 7.2 MB/s eta 0:00:01\n",
      "   ------------------------ --------------- 2.4/3.9 MB 6.1 MB/s eta 0:00:01\n",
      "   ---------------------------------- ----- 3.4/3.9 MB 5.6 MB/s eta 0:00:01\n",
      "   ------------------------------------- -- 3.7/3.9 MB 5.1 MB/s eta 0:00:01\n",
      "   ------------------------------------- -- 3.7/3.9 MB 5.1 MB/s eta 0:00:01\n",
      "   ------------------------------------- -- 3.7/3.9 MB 5.1 MB/s eta 0:00:01\n",
      "   ------------------------------------- -- 3.7/3.9 MB 5.1 MB/s eta 0:00:01\n",
      "   ------------------------------------- -- 3.7/3.9 MB 5.1 MB/s eta 0:00:01\n",
      "   ---------------------------------------- 3.9/3.9 MB 1.9 MB/s eta 0:00:00\n",
      "Downloading requests_futures-1.0.2-py2.py3-none-any.whl (7.7 kB)\n",
      "Installing collected packages: lxml, requests-futures, yahooquery\n",
      "  Attempting uninstall: lxml\n",
      "    Found existing installation: lxml 5.3.0\n",
      "    Uninstalling lxml-5.3.0:\n",
      "      Successfully uninstalled lxml-5.3.0\n",
      "Successfully installed lxml-4.9.4 requests-futures-1.0.2 yahooquery-2.3.7\n"
     ]
    }
   ],
   "source": [
    "pip install yahooquery\n"
   ]
  },
  {
   "cell_type": "code",
   "execution_count": 8,
   "metadata": {},
   "outputs": [
    {
     "name": "stdout",
     "output_type": "stream",
     "text": [
      "Current Gold Price: $2957.6 per ounce\n"
     ]
    }
   ],
   "source": [
    "from yahooquery import Ticker\n",
    "\n",
    "# Yahoo Finance ticker for Gold Futures\n",
    "gold = Ticker(\"GC=F\")\n",
    "\n",
    "# Fetch real-time price\n",
    "gold_price = gold.price[\"GC=F\"][\"regularMarketPrice\"]\n",
    "\n",
    "print(f\"Current Gold Price: ${gold_price} per ounce\")\n"
   ]
  },
  {
   "cell_type": "markdown",
   "metadata": {},
   "source": [
    "💡 Additional Data from Yahoo Finance\n",
    "You can also fetch:\n",
    "\n",
    "Historical prices (gold.history())\n",
    "Market summary (gold.summary_detail)\n",
    "Exchange rate trends (gold.price)\n"
   ]
  },
  {
   "cell_type": "markdown",
   "metadata": {},
   "source": [
    "2. Real Estate API (Housing Market Data)\n",
    "Real estate market data APIs provide home prices, rental estimates, and historical trends.\n",
    "\n",
    "✅ Recommended APIs:\n",
    "API\tFeatures\tPricing\n",
    "Zillow API\tHome price estimates, rental data, property details\tRequires approval\n",
    "Realtor API\tUS real estate listings, property values, mortgage rates\tFree & Paid\n",
    "ATTOM Data\tUS property values, ownership, tax data\tPaid\n"
   ]
  },
  {
   "cell_type": "code",
   "execution_count": null,
   "metadata": {},
   "outputs": [],
   "source": [
    "import requests\n",
    "\n",
    "api_key = \"your_rapidapi_key\"\n",
    "url = \"https://realtor.p.rapidapi.com/properties/v2/list-for-sale\"\n",
    "headers = {\n",
    "    \"X-RapidAPI-Key\": api_key,\n",
    "    \"X-RapidAPI-Host\": \"realtor.p.rapidapi.com\"\n",
    "}\n",
    "params = {\"city\": \"Los Angeles\", \"state_code\": \"CA\", \"limit\": \"1\"}\n",
    "\n",
    "response = requests.get(url, headers=headers, params=params).json()\n",
    "property_price = response[\"properties\"][0][\"price\"]\n",
    "print(f\"Property Price: ${property_price}\")\n"
   ]
  },
  {
   "cell_type": "markdown",
   "metadata": {},
   "source": [
    "3. Bonds API (Government & Corporate Bonds)\n",
    "Bond data APIs provide bond yields, interest rates, and treasury rates.\n",
    "\n",
    "✅ Recommended APIs:\n",
    "API\tFeatures\tPricing\n",
    "Alpha Vantage\tUS Treasury bond yields\tFree\n",
    "Quandl (NASDAQ Data Link)\tBond yields, corporate bond data\tFree & Paid\n",
    "World Government Bonds\tGovernment bond yields\tFree\n"
   ]
  },
  {
   "cell_type": "code",
   "execution_count": null,
   "metadata": {},
   "outputs": [],
   "source": [
    "import requests\n",
    "\n",
    "api_key = \"your_alpha_vantage_api_key\"\n",
    "url = f\"https://www.alphavantage.co/query?function=TREASURY_YIELD&interval=daily&maturity=10year&apikey={api_key}\"\n",
    "\n",
    "response = requests.get(url).json()\n",
    "bond_yield = response[\"data\"][0][\"value\"]\n",
    "print(f\"10-Year Treasury Bond Yield: {bond_yield}%\")\n"
   ]
  },
  {
   "cell_type": "code",
   "execution_count": 7,
   "metadata": {},
   "outputs": [
    {
     "name": "stdout",
     "output_type": "stream",
     "text": [
      "      Customer_ID                 Asset_Types            Investment_Amounts  \\\n",
      "0      Customer_1         Bonds, Gold, Stocks  15775.35, 15839.22, 30531.06   \n",
      "1      Customer_2  Stocks, Real Estate, Bonds  10777.62, 26387.71, 29741.16   \n",
      "2      Customer_3         Stocks, Real Estate             36044.04, 37082.7   \n",
      "3      Customer_4                Gold, Crypto            25316.88, 16155.75   \n",
      "4      Customer_5                Gold, Crypto            15355.16, 14909.78   \n",
      "..            ...                         ...                           ...   \n",
      "96    Customer_97                      Stocks                      19153.27   \n",
      "97    Customer_98                       Bonds                      43920.98   \n",
      "98    Customer_99                      Crypto                      25788.94   \n",
      "99   Customer_100                 Real Estate                      33018.52   \n",
      "100  Customer_101                      Stocks                      14160.12   \n",
      "\n",
      "                Current_Values                     Investment_Date  \n",
      "0    31729.48, 8806.69, 348.53  2020-06-10, 2020-06-24, 2024-02-07  \n",
      "1    240.41, 16648.9, 34661.28  2021-06-26, 2022-12-16, 2024-11-21  \n",
      "2              683.03, 29095.5              2022-03-28, 2023-10-07  \n",
      "3            6156.88, 96404.28              2020-05-11, 2021-11-23  \n",
      "4           39710.66, 96404.28              2020-05-25, 2023-12-20  \n",
      "..                         ...                                 ...  \n",
      "96                      486.58                          2021-10-24  \n",
      "97                    59346.56                          2024-08-16  \n",
      "98                    19379.13                          2020-04-21  \n",
      "99                    39397.48                          2022-10-17  \n",
      "100                     467.45                          2023-01-29  \n",
      "\n",
      "[101 rows x 5 columns]\n"
     ]
    }
   ],
   "source": [
    "print(df)"
   ]
  },
  {
   "cell_type": "code",
   "execution_count": 12,
   "metadata": {},
   "outputs": [
    {
     "name": "stdout",
     "output_type": "stream",
     "text": [
      "c:\\Jalpa\\Data Science UOT\\Case Studies\\Investment_portfolio\n"
     ]
    }
   ],
   "source": [
    "import os\n",
    "localdatapath = os.getcwd()\n",
    "print(localdatapath)\n"
   ]
  },
  {
   "cell_type": "code",
   "execution_count": 8,
   "metadata": {},
   "outputs": [],
   "source": [
    "# Intially for 10 customer(tableaudata)\n",
    "#df.to_csv('Cust_Invest_data.csv',index=False)  # save the file in to csv format\n",
    "#now for 100 customers\n",
    "df.to_csv('100Cust_Invest_data.csv',index=False)  # save the file in to csv format\n"
   ]
  }
 ],
 "metadata": {
  "kernelspec": {
   "display_name": "dsi_participant",
   "language": "python",
   "name": "python3"
  },
  "language_info": {
   "codemirror_mode": {
    "name": "ipython",
    "version": 3
   },
   "file_extension": ".py",
   "mimetype": "text/x-python",
   "name": "python",
   "nbconvert_exporter": "python",
   "pygments_lexer": "ipython3",
   "version": "3.9.15"
  }
 },
 "nbformat": 4,
 "nbformat_minor": 2
}
