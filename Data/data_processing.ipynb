{
 "cells": [
  {
   "cell_type": "code",
   "execution_count": 4,
   "metadata": {},
   "outputs": [
    {
     "data": {
      "text/plain": [
       "<bound method NDFrame.head of    Customer_ID                 Asset_Types            Investment_Amounts  \\\n",
       "0   Customer_1         Bonds, Gold, Stocks  46693.31, 40330.82, 17836.22   \n",
       "1   Customer_2  Stocks, Real Estate, Bonds  18351.85, 48591.92, 31063.11   \n",
       "2   Customer_3                Gold, Crypto            46372.42, 28900.68   \n",
       "3   Customer_4  Stocks, Real Estate, Bonds    8083.46, 8058.24, 43781.86   \n",
       "4   Customer_5       Bonds, Stocks, Crypto  34581.79, 30435.21, 19236.64   \n",
       "5   Customer_6         Bonds, Gold, Stocks  22810.36, 35226.06, 18499.87   \n",
       "6   Customer_7                      Stocks                      29193.55   \n",
       "7   Customer_8                 Real Estate                      44638.89   \n",
       "8   Customer_9                 Real Estate                      12098.61   \n",
       "9  Customer_10                 Real Estate                       32525.5   \n",
       "\n",
       "                Current_Values                     Investment_Date  \n",
       "0   35567.26, 44512.46, 223.29  2023-11-27, 2024-02-05, 2024-05-23  \n",
       "1    694.05, 8144.09, 37129.77  2023-01-15, 2020-05-04, 2024-03-11  \n",
       "2            9406.13, 96726.23              2020-04-26, 2022-11-06  \n",
       "3    160.8, 37698.55, 39065.98  2022-04-06, 2020-09-02, 2024-12-28  \n",
       "4  44390.55, 416.525, 96726.23  2021-06-18, 2021-02-22, 2023-10-03  \n",
       "5    5512.35, 39163.76, 498.24  2021-10-09, 2024-03-19, 2020-05-28  \n",
       "6                       109.61                          2022-11-02  \n",
       "7                     18435.64                          2024-12-05  \n",
       "8                     34876.99                          2024-09-03  \n",
       "9                      40968.7                          2024-07-10  >"
      ]
     },
     "execution_count": 4,
     "metadata": {},
     "output_type": "execute_result"
    }
   ],
   "source": [
    "df = pd.read_csv(r'c:\\Jalpa\\Data Science UOT\\Case Studies\\Investment_portfolio\\Cust_Invest_data.csv')\n",
    "#df = pd.read_csv('Cust_Invest_data.csv')\n",
    "df.head"
   ]
  },
  {
   "cell_type": "markdown",
   "metadata": {},
   "source": [
    "Now, need to separate each row in df so that each asset type gets its own row instead of being combined in a single row per customer. This can be achieve by exploding the multi-asset columns. \n"
   ]
  },
  {
   "cell_type": "code",
   "execution_count": 17,
   "metadata": {},
   "outputs": [
    {
     "name": "stdout",
     "output_type": "stream",
     "text": [
      "    Customer_ID  Asset_Types  Investment_Amounts  Current_Values  \\\n",
      "0    Customer_1        Bonds            46693.31       35567.260   \n",
      "1    Customer_1         Gold            40330.82       44512.460   \n",
      "2    Customer_1       Stocks            17836.22         223.290   \n",
      "3    Customer_2       Stocks            18351.85         694.050   \n",
      "4    Customer_2  Real Estate            48591.92        8144.090   \n",
      "5    Customer_2        Bonds            31063.11       37129.770   \n",
      "6    Customer_3         Gold            46372.42        9406.130   \n",
      "7    Customer_3       Crypto            28900.68       96726.230   \n",
      "8    Customer_4       Stocks             8083.46         160.800   \n",
      "9    Customer_4  Real Estate             8058.24       37698.550   \n",
      "10   Customer_4        Bonds            43781.86       39065.980   \n",
      "11   Customer_5        Bonds            34581.79       44390.550   \n",
      "12   Customer_5       Stocks            30435.21         416.525   \n",
      "13   Customer_5       Crypto            19236.64       96726.230   \n",
      "14   Customer_6        Bonds            22810.36        5512.350   \n",
      "15   Customer_6         Gold            35226.06       39163.760   \n",
      "16   Customer_6       Stocks            18499.87         498.240   \n",
      "17   Customer_7       Stocks            29193.55         109.610   \n",
      "18   Customer_8  Real Estate            44638.89       18435.640   \n",
      "19   Customer_9  Real Estate            12098.61       34876.990   \n",
      "20  Customer_10  Real Estate            32525.50       40968.700   \n",
      "\n",
      "   Investment_Date  \n",
      "0       2023-11-27  \n",
      "1       2024-02-05  \n",
      "2       2024-05-23  \n",
      "3       2023-01-15  \n",
      "4       2020-05-04  \n",
      "5       2024-03-11  \n",
      "6       2020-04-26  \n",
      "7       2022-11-06  \n",
      "8       2022-04-06  \n",
      "9       2020-09-02  \n",
      "10      2024-12-28  \n",
      "11      2021-06-18  \n",
      "12      2021-02-22  \n",
      "13      2023-10-03  \n",
      "14      2021-10-09  \n",
      "15      2024-03-19  \n",
      "16      2020-05-28  \n",
      "17      2022-11-02  \n",
      "18      2024-12-05  \n",
      "19      2024-09-03  \n",
      "20      2024-07-10  \n"
     ]
    }
   ],
   "source": [
    "import pandas as pd\n",
    "\n",
    "# Function to split and explode multi-asset data\n",
    "def separate_assets(df):\n",
    "    df_expanded = df.copy()\n",
    "    \n",
    "    # Split columns with multiple values into lists\n",
    "    df_expanded[\"Asset_Types\"] = df_expanded[\"Asset_Types\"].str.split(\", \")\n",
    "    df_expanded[\"Investment_Amounts\"] = df_expanded[\"Investment_Amounts\"].str.split(\", \")\n",
    "    df_expanded[\"Current_Values\"] = df_expanded[\"Current_Values\"].str.split(\", \")\n",
    "    df_expanded[\"Investment_Date\"] = df_expanded[\"Investment_Date\"].str.split(\", \")\n",
    "    \n",
    "    # Explode the DataFrame to create separate rows per asset type\n",
    "    df_expanded = df_expanded.explode([\"Asset_Types\", \"Investment_Amounts\", \"Current_Values\", \"Investment_Date\"])\n",
    "\n",
    "    # Convert Investment_Amounts and Current_Values to float\n",
    "    df_expanded[\"Investment_Amounts\"] = df_expanded[\"Investment_Amounts\"].astype(float)\n",
    "    df_expanded[\"Current_Values\"] = df_expanded[\"Current_Values\"].astype(float)\n",
    "\n",
    "    \n",
    "    return df_expanded.reset_index(drop=True)\n",
    "\n",
    "# Apply transformation\n",
    "df_separated = separate_assets(df)\n",
    "print(df_separated)\n"
   ]
  },
  {
   "cell_type": "code",
   "execution_count": 18,
   "metadata": {},
   "outputs": [
    {
     "name": "stdout",
     "output_type": "stream",
     "text": [
      "<class 'pandas.core.frame.DataFrame'>\n",
      "RangeIndex: 21 entries, 0 to 20\n",
      "Data columns (total 5 columns):\n",
      " #   Column              Non-Null Count  Dtype  \n",
      "---  ------              --------------  -----  \n",
      " 0   Customer_ID         21 non-null     object \n",
      " 1   Asset_Types         21 non-null     object \n",
      " 2   Investment_Amounts  21 non-null     float64\n",
      " 3   Current_Values      21 non-null     float64\n",
      " 4   Investment_Date     21 non-null     object \n",
      "dtypes: float64(2), object(3)\n",
      "memory usage: 968.0+ bytes\n"
     ]
    }
   ],
   "source": [
    "df_separated.info()"
   ]
  },
  {
   "cell_type": "code",
   "execution_count": 14,
   "metadata": {},
   "outputs": [
    {
     "data": {
      "text/plain": [
       "Index(['Customer_ID', 'Asset_Types', 'Investment_Amounts', 'Current_Values',\n",
       "       'Investment_Date'],\n",
       "      dtype='object')"
      ]
     },
     "execution_count": 14,
     "metadata": {},
     "output_type": "execute_result"
    }
   ],
   "source": [
    "df_separated.columns"
   ]
  },
  {
   "cell_type": "code",
   "execution_count": 19,
   "metadata": {},
   "outputs": [
    {
     "data": {
      "text/html": [
       "<div>\n",
       "<style scoped>\n",
       "    .dataframe tbody tr th:only-of-type {\n",
       "        vertical-align: middle;\n",
       "    }\n",
       "\n",
       "    .dataframe tbody tr th {\n",
       "        vertical-align: top;\n",
       "    }\n",
       "\n",
       "    .dataframe thead th {\n",
       "        text-align: right;\n",
       "    }\n",
       "</style>\n",
       "<table border=\"1\" class=\"dataframe\">\n",
       "  <thead>\n",
       "    <tr style=\"text-align: right;\">\n",
       "      <th></th>\n",
       "      <th>Investment_Amounts</th>\n",
       "      <th>Current_Values</th>\n",
       "    </tr>\n",
       "  </thead>\n",
       "  <tbody>\n",
       "    <tr>\n",
       "      <th>count</th>\n",
       "      <td>21.000000</td>\n",
       "      <td>21.000000</td>\n",
       "    </tr>\n",
       "    <tr>\n",
       "      <th>mean</th>\n",
       "      <td>29395.731905</td>\n",
       "      <td>28115.581190</td>\n",
       "    </tr>\n",
       "    <tr>\n",
       "      <th>std</th>\n",
       "      <td>12882.554325</td>\n",
       "      <td>28817.767785</td>\n",
       "    </tr>\n",
       "    <tr>\n",
       "      <th>min</th>\n",
       "      <td>8058.240000</td>\n",
       "      <td>109.610000</td>\n",
       "    </tr>\n",
       "    <tr>\n",
       "      <th>25%</th>\n",
       "      <td>18499.870000</td>\n",
       "      <td>694.050000</td>\n",
       "    </tr>\n",
       "    <tr>\n",
       "      <th>50%</th>\n",
       "      <td>30435.210000</td>\n",
       "      <td>34876.990000</td>\n",
       "    </tr>\n",
       "    <tr>\n",
       "      <th>75%</th>\n",
       "      <td>40330.820000</td>\n",
       "      <td>39163.760000</td>\n",
       "    </tr>\n",
       "    <tr>\n",
       "      <th>max</th>\n",
       "      <td>48591.920000</td>\n",
       "      <td>96726.230000</td>\n",
       "    </tr>\n",
       "  </tbody>\n",
       "</table>\n",
       "</div>"
      ],
      "text/plain": [
       "       Investment_Amounts  Current_Values\n",
       "count           21.000000       21.000000\n",
       "mean         29395.731905    28115.581190\n",
       "std          12882.554325    28817.767785\n",
       "min           8058.240000      109.610000\n",
       "25%          18499.870000      694.050000\n",
       "50%          30435.210000    34876.990000\n",
       "75%          40330.820000    39163.760000\n",
       "max          48591.920000    96726.230000"
      ]
     },
     "execution_count": 19,
     "metadata": {},
     "output_type": "execute_result"
    }
   ],
   "source": [
    "df_separated.describe()"
   ]
  },
  {
   "cell_type": "code",
   "execution_count": 20,
   "metadata": {},
   "outputs": [],
   "source": [
    "df_data=df_separated"
   ]
  },
  {
   "cell_type": "code",
   "execution_count": 31,
   "metadata": {},
   "outputs": [],
   "source": [
    "# export to csv\n",
    "import os\n",
    "path= os.getcwd()\n",
    "\n",
    "df_separated.to_csv(\"TableauData.csv\",index=False)\n"
   ]
  }
 ],
 "metadata": {
  "kernelspec": {
   "display_name": "dsi_participant",
   "language": "python",
   "name": "python3"
  },
  "language_info": {
   "codemirror_mode": {
    "name": "ipython",
    "version": 3
   },
   "file_extension": ".py",
   "mimetype": "text/x-python",
   "name": "python",
   "nbconvert_exporter": "python",
   "pygments_lexer": "ipython3",
   "version": "3.9.15"
  }
 },
 "nbformat": 4,
 "nbformat_minor": 2
}
